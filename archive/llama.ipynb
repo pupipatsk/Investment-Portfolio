{
 "cells": [
  {
   "cell_type": "code",
   "execution_count": null,
   "metadata": {},
   "outputs": [],
   "source": [
    "import pandas as pd\n",
    "import os\n",
    "# OCR\n",
    "import pytesseract\n",
    "# Path to tesseract executable\n",
    "pytesseract.pytesseract.tesseract_cmd = \"/opt/homebrew/bin/tesseract\" # For Apple Silicon Macs\n",
    "from PIL import Image\n",
    "import re  # Regular expressions\n",
    "\n",
    "original_dir = os.getcwd()\n",
    "os.chdir(\"../\")  # go back 1 parent directory\n",
    "repo_dir = os.getcwd()\n",
    "# print(\"Repository path:\", repo_dir) # ../Investment-Portfolio\n",
    "os.chdir(original_dir)\n",
    "\n",
    "folder_path = repo_dir + \"/data_private/transaction/dime/mutual_funds/\"\n",
    "\n",
    "data_list = []  # list of dict\n",
    "\n",
    "count = 0\n",
    "# Loop through all files in the folder\n",
    "for filename in sorted(os.listdir(folder_path)):\n",
    "    file_formats = [\".PNG\", \".JPEG\", \".JPG\"]\n",
    "    if any(ext in filename.upper() for ext in file_formats):\n",
    "        file_path = os.path.join(folder_path, filename)\n",
    "        image = Image.open(file_path)\n",
    "\n",
    "        # Perform OCR\n",
    "        text = pytesseract.image_to_string(image, lang=\"eng\")\n",
    "        print(text)\n",
    "        # Extract data from text\n",
    "        # data = extract_data_from_text(text)\n",
    "\n",
    "        # Append data to the list\n",
    "        # data_list.append(data)\n",
    "    count += 1\n",
    "    if count > 1:\n",
    "        break\n",
    "\n",
    "\n",
    "# Create DataFrame from the list\n",
    "df = pd.DataFrame(data_list)"
   ]
  },
  {
   "cell_type": "code",
   "execution_count": null,
   "metadata": {},
   "outputs": [],
   "source": [
    "prompt = \"extract data and return as dict\"\n",
    "prompt += text"
   ]
  },
  {
   "cell_type": "code",
   "execution_count": null,
   "metadata": {},
   "outputs": [],
   "source": [
    "# import ollama\n",
    "# response = ollama.chat(model='llama3.1', messages=[\n",
    "#   {\n",
    "#     'role': 'user',\n",
    "#     'content': prompt,\n",
    "#   },\n",
    "# ])\n",
    "# print(response['message']['content'])"
   ]
  }
 ],
 "metadata": {
  "kernelspec": {
   "display_name": "datascience",
   "language": "python",
   "name": "python3"
  },
  "language_info": {
   "codemirror_mode": {
    "name": "ipython",
    "version": 3
   },
   "file_extension": ".py",
   "mimetype": "text/x-python",
   "name": "python",
   "nbconvert_exporter": "python",
   "pygments_lexer": "ipython3",
   "version": "3.9.7"
  }
 },
 "nbformat": 4,
 "nbformat_minor": 2
}
