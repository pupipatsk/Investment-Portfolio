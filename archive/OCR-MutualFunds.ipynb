{
 "cells": [
  {
   "cell_type": "markdown",
   "metadata": {},
   "source": [
    "# OCR - Mutual Funds\n",
    "Optical Character Recognition (OCR) for Dime Mutual Funds Transaction"
   ]
  },
  {
   "cell_type": "code",
   "execution_count": null,
   "metadata": {},
   "outputs": [],
   "source": [
    "import pandas as pd\n",
    "import os\n",
    "# OCR\n",
    "import pytesseract\n",
    "pytesseract.pytesseract.tesseract_cmd = '/opt/homebrew/bin/tesseract'  # Path to tesseract executable  # For Apple Silicon Macs\n",
    "from PIL import Image\n",
    "import re # Regular expressions"
   ]
  },
  {
   "cell_type": "code",
   "execution_count": null,
   "metadata": {},
   "outputs": [],
   "source": [
    "original_dir = os.getcwd()\n",
    "os.chdir('../') # go back 1 parent directory\n",
    "\n",
    "repo_dir = os.getcwd()\n",
    "# print(\"Repository path:\", repo_dir) # ../Investment-Portfolio\n",
    "\n",
    "os.chdir(original_dir)"
   ]
  },
  {
   "cell_type": "code",
   "execution_count": null,
   "metadata": {},
   "outputs": [],
   "source": [
    "def extract_data_from_text(text):\n",
    "    \"\"\"Extracts data from text for Dime Mutual Fund Transactions\n",
    "    Args:\n",
    "        text (str):\n",
    "\n",
    "    Returns:\n",
    "        dict:\n",
    "    \"\"\"\n",
    "\n",
    "    # Regular expressions\n",
    "    status_pattern = re.search(r'@\\S*\\s([^\\n]*)\\n', text)\n",
    "    status = status_pattern.group(1) if status_pattern else None\n",
    "\n",
    "    order_pattern = re.search(r'(Buy|Sell) (.*?)\\n', text)\n",
    "    position, ticker = (order_pattern.group(1), order_pattern.group(2)) if order_pattern else (None, None)\n",
    "\n",
    "    thb_amount_pattern = re.search(r'(\\d+,\\d+.\\d+) THB\\n', text)\n",
    "    thb_amount = thb_amount_pattern.group(1) if thb_amount_pattern else None\n",
    "\n",
    "    submission_date_pattern = re.search(r'Submission Date (.*?)\\n', text)\n",
    "    submission_date = submission_date_pattern.group(1) if submission_date_pattern else None\n",
    "\n",
    "    payment_date_pattern = re.search(r'Payment Date (.*?)\\n', text)\n",
    "    payment_date = payment_date_pattern.group(1) if payment_date_pattern else None\n",
    "\n",
    "    effective_date_pattern = re.search(r'Effective Date (.*?)\\n', text)\n",
    "    effective_date = effective_date_pattern.group(1) if effective_date_pattern else None\n",
    "\n",
    "    portfolio_pattern = re.search(r'Dime! Portfolio (.*?)\\n', text)\n",
    "    portfolio = portfolio_pattern.group(1) if portfolio_pattern else None\n",
    "\n",
    "    unitholder_no_pattern = re.search(r'Unitholder No. (.*?)\\n', text)\n",
    "    unitholder_no = unitholder_no_pattern.group(1) if unitholder_no_pattern else None\n",
    "\n",
    "    account_no_pattern = re.search(r'Account No. (.*?)\\n', text)\n",
    "    account_no = account_no_pattern.group(1) if account_no_pattern else None\n",
    "\n",
    "    order_id_pattern = re.search(r'Order ID (.*?)\\n', text)\n",
    "    order_id = order_id_pattern.group(1) if order_id_pattern else None\n",
    "\n",
    "    reference_id_pattern = re.search(r'Reference ID (.*?)\\n\\n(\\d+)', text)\n",
    "    reference_id = reference_id_pattern.group(1) + reference_id_pattern.group(2) if reference_id_pattern else None\n",
    "\n",
    "    return {\n",
    "        \"Status\": status,\n",
    "        \"Position\": position,\n",
    "        \"Ticker\": ticker,\n",
    "        \"Amount (THB)\": thb_amount,\n",
    "        \"Submission Date\": submission_date,\n",
    "        \"Payment Date\": payment_date,\n",
    "        \"Effective Date\": effective_date,\n",
    "        \"Dime! Portfolio\": portfolio,\n",
    "        \"Unitholder No.\": unitholder_no,\n",
    "        \"Account No.\": account_no,\n",
    "        \"Order ID\": order_id,\n",
    "        \"Reference ID\": reference_id\n",
    "    }\n"
   ]
  },
  {
   "cell_type": "code",
   "execution_count": null,
   "metadata": {},
   "outputs": [],
   "source": [
    "folder_path = repo_dir + \"/data/private/receipt/dime/mutual_funds\"\n",
    "\n",
    "data_list = [] # list of dict\n",
    "\n",
    "# Loop through all files in the folder\n",
    "for filename in sorted(os.listdir(folder_path)):\n",
    "    file_formats = [\".PNG\", \".JPEG\", \".JPG\"]\n",
    "\n",
    "    if any(ext in filename.upper() for ext in file_formats):\n",
    "        file_path = os.path.join(folder_path, filename)\n",
    "        image = Image.open(file_path)\n",
    "\n",
    "        # Perform OCR\n",
    "        text = pytesseract.image_to_string(image, lang=\"eng\")\n",
    "\n",
    "        # Extract data from text\n",
    "        data = extract_data_from_text(text)\n",
    "\n",
    "        # Append data to the list\n",
    "        data_list.append(data)\n",
    "\n",
    "# Create DataFrame from the list\n",
    "df = pd.DataFrame(data_list)"
   ]
  },
  {
   "cell_type": "code",
   "execution_count": null,
   "metadata": {},
   "outputs": [],
   "source": [
    "# DataType\n",
    "\n",
    "# DateTieme\n",
    "submission_24h = pd.to_datetime(df[\"Submission Date\"], errors=\"coerce\", format=\"%d %b %Y - %H:%M\")\n",
    "submission_ampm = pd.to_datetime(df[\"Submission Date\"], errors=\"coerce\", format=\"%d %b %Y - %I:%M %p\")\n",
    "df[\"Submission Date\"] = submission_24h.combine_first(submission_ampm)\n",
    "\n",
    "payment_24h = pd.to_datetime(df[\"Payment Date\"], errors=\"coerce\", format=\"%d %b %Y - %H:%M\")\n",
    "payment_ampm = pd.to_datetime(df[\"Payment Date\"], errors=\"coerce\", format=\"%d %b %Y - %I:%M %p\")\n",
    "df[\"Payment Date\"] = payment_24h.combine_first(payment_ampm)\n",
    "\n",
    "df[\"Effective Date\"] = pd.to_datetime(df[\"Effective Date\"], dayfirst=True, format=\"%d %b %Y\", errors=\"coerce\")\n",
    "\n",
    "# Amount # float\n",
    "df['Amount (THB)'] = df['Amount (THB)'].str.replace(',', '').astype(float)\n",
    "\n",
    "df.info()"
   ]
  },
  {
   "cell_type": "code",
   "execution_count": null,
   "metadata": {},
   "outputs": [],
   "source": [
    "# df.to_csv(repo_dir + \"/data/private/receipt/dime/mutual_funds_ocr.csv\", index=False)"
   ]
  }
 ],
 "metadata": {
  "kernelspec": {
   "display_name": "datascience",
   "language": "python",
   "name": "python3"
  },
  "language_info": {
   "codemirror_mode": {
    "name": "ipython",
    "version": 3
   },
   "file_extension": ".py",
   "mimetype": "text/x-python",
   "name": "python",
   "nbconvert_exporter": "python",
   "pygments_lexer": "ipython3",
   "version": "3.9.7"
  }
 },
 "nbformat": 4,
 "nbformat_minor": 2
}
