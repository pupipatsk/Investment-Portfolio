{
 "cells": [
  {
   "cell_type": "code",
   "execution_count": null,
   "metadata": {},
   "outputs": [],
   "source": [
    "# --- iPython Config --- #\n",
    "from IPython import get_ipython\n",
    "if 'IPython.extensions.autoreload' not in get_ipython().extension_manager.loaded:\n",
    "    get_ipython().run_line_magic('load_ext', 'autoreload')\n",
    "else:\n",
    "    get_ipython().run_line_magic('reload_ext', 'autoreload')\n",
    "%autoreload 2\n",
    "\n",
    "# --- System and Path --- #\n",
    "import os\n",
    "import sys\n",
    "REPO_PATH = os.path.abspath(os.path.join('..'))\n",
    "if REPO_PATH not in sys.path:\n",
    "    sys.path.append(REPO_PATH)\n",
    "import warnings\n",
    "warnings.filterwarnings(\"ignore\")\n",
    "\n",
    "# --- Data Manipulation --- #\n",
    "import pandas as pd\n",
    "import numpy as np\n",
    "from tqdm import tqdm # Progress bar\n",
    "\n",
    "# --- Financial Data --- #\n",
    "import yfinance as yf\n",
    "\n",
    "# --- Modules --- #\n",
    "from src import *\n"
   ]
  },
  {
   "cell_type": "markdown",
   "metadata": {},
   "source": [
    "USD Deposit = \n",
    "- THB-USD(+)\n",
    "  - Deposit.xlsx\n",
    "- Stock-USD(+)\n",
    "  - Transactino.xlsx\n",
    "  - Sell transaction\n",
    "- USD-Stock(-)\n",
    "  - Transaction.xlsx\n",
    "  - Buy transaction\n",
    "- Dividend (+)\n",
    "  - Dividends.xlsx"
   ]
  },
  {
   "cell_type": "markdown",
   "metadata": {},
   "source": [
    "# THB-USD (Inflow +)"
   ]
  },
  {
   "cell_type": "code",
   "execution_count": null,
   "metadata": {},
   "outputs": [],
   "source": [
    "filename = 'DepositUSD.xlsx'\n",
    "df_thb_usd = pd.read_excel(REPO_PATH+'/data/private/main/'+filename,\n",
    "                               index_col='Date',\n",
    "                               parse_dates=True)"
   ]
  },
  {
   "cell_type": "code",
   "execution_count": null,
   "metadata": {},
   "outputs": [],
   "source": [
    "# Filter only relevant with DimeUSD\n",
    "df_thb_usd = df_thb_usd[\n",
    "    (df_thb_usd[\"ToAccount\"] == \"DimeUSD\")\n",
    "    | (df_thb_usd[\"FromAccount\"] == \"DimeUSD\")\n",
    "]\n",
    "\n",
    "# Amount\n",
    "df_thb_usd[\"Amount\"] = df_thb_usd.apply(\n",
    "    lambda x: x[\"USD Amount\"] if x[\"ToAccount\"] == \"DimeUSD\" else -x[\"USD Amount\"],\n",
    "    axis=1,\n",
    ")\n",
    "\n",
    "# select features\n",
    "df_thb_usd = df_thb_usd[\"Amount\"]"
   ]
  },
  {
   "cell_type": "code",
   "execution_count": null,
   "metadata": {},
   "outputs": [],
   "source": [
    "def aggregate_intraday_to_daily(df):\n",
    "    \"\"\"\n",
    "    Args:\n",
    "        df (Series): index is datetime\n",
    "\n",
    "    Returns:\n",
    "        DataFrame: index is datetime\n",
    "    \"\"\"\n",
    "    # keep only date\n",
    "    df = df.reset_index()\n",
    "    df[\"Date\"] = df[\"Date\"].dt.date\n",
    "\n",
    "    # aggregate\n",
    "    df = df.groupby(\"Date\").sum()\n",
    "\n",
    "    # datetime index\n",
    "    df.index = pd.to_datetime(df.index)\n",
    "\n",
    "    return df\n",
    "\n",
    "df_thb_usd = aggregate_intraday_to_daily(df_thb_usd)\n",
    "df_thb_usd.columns = [\"THB-USD Amount\"] # inflow(+)"
   ]
  },
  {
   "cell_type": "markdown",
   "metadata": {},
   "source": [
    "# Stock-USD (Inflow +)\n",
    "Sell transaction"
   ]
  },
  {
   "cell_type": "code",
   "execution_count": null,
   "metadata": {},
   "outputs": [],
   "source": [
    "# Read Transactions.xlsx\n",
    "filename = 'Transactions.xlsx'\n",
    "df_stock_usd = pd.read_excel(REPO_PATH+'/data/private/main/'+filename,\n",
    "                             index_col='Date',\n",
    "                             parse_dates=True)"
   ]
  },
  {
   "cell_type": "code",
   "execution_count": null,
   "metadata": {},
   "outputs": [],
   "source": [
    "# Keep only Sell transactions\n",
    "df_stock_usd = df_stock_usd[df_stock_usd[\"Position\"] == \"Sell\"]\n",
    "\n",
    "# select features\n",
    "df_stock_usd = df_stock_usd[\"Total Amount (USD)\"]"
   ]
  },
  {
   "cell_type": "code",
   "execution_count": null,
   "metadata": {},
   "outputs": [],
   "source": [
    "df_stock_usd = aggregate_intraday_to_daily(df_stock_usd)\n",
    "\n",
    "# rename columns\n",
    "df_stock_usd.columns = [\"Stock-USD\"] # inflow(+)"
   ]
  },
  {
   "cell_type": "markdown",
   "metadata": {},
   "source": [
    "# USD-Stock (Outflow -)\n",
    "Buy transaction in USD"
   ]
  },
  {
   "cell_type": "code",
   "execution_count": null,
   "metadata": {},
   "outputs": [],
   "source": [
    "# Read Transactions.xlsx\n",
    "filename = 'Transactions.xlsx'\n",
    "df_usd_stock = pd.read_excel(REPO_PATH+'/data/private/main/'+filename,\n",
    "                             index_col='Date',\n",
    "                             parse_dates=True)"
   ]
  },
  {
   "cell_type": "code",
   "execution_count": null,
   "metadata": {},
   "outputs": [],
   "source": [
    "# Keep only Buy transactions\n",
    "df_usd_stock = df_usd_stock[df_usd_stock[\"Position\"] == \"Buy\"]\n",
    "\n",
    "# # Buy with USD\n",
    "# df_usd_stock = df_usd_stock[\n",
    "#     df_usd_stock[\"Total Amount\"].apply(lambda x: str(x).startswith(\"USD\"))\n",
    "# ]"
   ]
  },
  {
   "cell_type": "code",
   "execution_count": null,
   "metadata": {},
   "outputs": [],
   "source": [
    "# select features\n",
    "df_usd_stock = df_usd_stock[\"Total Amount (USD)\"] # to Series"
   ]
  },
  {
   "cell_type": "code",
   "execution_count": null,
   "metadata": {},
   "outputs": [],
   "source": [
    "df_usd_stock = aggregate_intraday_to_daily(df_usd_stock)\n",
    "\n",
    "# rename columns\n",
    "df_usd_stock.columns = [\"USD-Stock\"]\n",
    "# outflow(-)\n",
    "df_usd_stock['USD-Stock'] = -df_usd_stock['USD-Stock']"
   ]
  },
  {
   "cell_type": "markdown",
   "metadata": {},
   "source": [
    "# Dividend (Inflow +)"
   ]
  },
  {
   "cell_type": "code",
   "execution_count": null,
   "metadata": {},
   "outputs": [],
   "source": [
    "filename = 'Dividends.xlsx'\n",
    "df_dividends = pd.read_excel(REPO_PATH+'/data/private/main/'+filename,\n",
    "                             index_col='Date',\n",
    "                             parse_dates=True)"
   ]
  },
  {
   "cell_type": "code",
   "execution_count": null,
   "metadata": {},
   "outputs": [],
   "source": [
    "# select features\n",
    "df_dividends = df_dividends[\"Net Amount\"] # USD\n",
    "\n",
    "# rename series\n",
    "df_dividends.rename(\"Dividends-USD\", inplace=True)"
   ]
  },
  {
   "cell_type": "markdown",
   "metadata": {},
   "source": [
    "# Balance"
   ]
  },
  {
   "cell_type": "code",
   "execution_count": null,
   "metadata": {},
   "outputs": [],
   "source": [
    "# merge all dataframes\n",
    "df_deposit = pd.concat(\n",
    "    [\n",
    "        df_thb_usd,\n",
    "        df_stock_usd,\n",
    "        df_usd_stock,\n",
    "        df_dividends,\n",
    "    ],\n",
    "    axis=1,\n",
    ")\n",
    "df_deposit.sort_index(inplace=True)"
   ]
  },
  {
   "cell_type": "code",
   "execution_count": null,
   "metadata": {},
   "outputs": [],
   "source": [
    "# Inflow(+)/Outflow(-)\n",
    "df_deposit[\"Flow\"] = df_deposit.sum(axis=1)\n",
    "\n",
    "# Balance\n",
    "df_deposit[\"Balance\"] = df_deposit[\"Flow\"].cumsum()\n",
    "# if negative, set to 0\n",
    "df_deposit[\"Balance\"] = df_deposit[\"Balance\"].apply(lambda x: max(0, x))"
   ]
  },
  {
   "cell_type": "code",
   "execution_count": null,
   "metadata": {},
   "outputs": [],
   "source": [
    "# Cumulative Deposit (USD)\n",
    "df_deposit[\"Cumulative Deposit (USD)\"] = df_deposit['THB-USD Amount'].cumsum()\n",
    "# ffill\n",
    "df_deposit[\"Cumulative Deposit (USD)\"] = df_deposit[\"Cumulative Deposit (USD)\"].ffill()"
   ]
  },
  {
   "cell_type": "code",
   "execution_count": null,
   "metadata": {},
   "outputs": [],
   "source": [
    "def save_to_csv(df, REPO_PATH=REPO_PATH):\n",
    "\n",
    "    time_now = pd.Timestamp.now().strftime(\"%Y%m%d\")\n",
    "\n",
    "    filename = time_now + '-Deposit.csv'\n",
    "    folderpath = REPO_PATH + '/data/private/csv/'\n",
    "    filepath = folderpath + filename\n",
    "\n",
    "    df.to_csv(filepath)\n",
    "\n",
    "save_to_csv(df_deposit)"
   ]
  }
 ],
 "metadata": {
  "kernelspec": {
   "display_name": "datascience",
   "language": "python",
   "name": "python3"
  },
  "language_info": {
   "codemirror_mode": {
    "name": "ipython",
    "version": 3
   },
   "file_extension": ".py",
   "mimetype": "text/x-python",
   "name": "python",
   "nbconvert_exporter": "python",
   "pygments_lexer": "ipython3",
   "version": "3.9.7"
  }
 },
 "nbformat": 4,
 "nbformat_minor": 2
}
