{
 "cells": [
  {
   "cell_type": "markdown",
   "metadata": {},
   "source": [
    "### import"
   ]
  },
  {
   "cell_type": "code",
   "execution_count": null,
   "metadata": {},
   "outputs": [],
   "source": [
    "# --- iPython Config --- #\n",
    "from IPython import get_ipython\n",
    "if 'IPython.extensions.autoreload' not in get_ipython().extension_manager.loaded:\n",
    "    get_ipython().run_line_magic('load_ext', 'autoreload')\n",
    "else:\n",
    "    get_ipython().run_line_magic('reload_ext', 'autoreload')\n",
    "%autoreload 2\n",
    "\n",
    "# --- System and Path --- #\n",
    "import os\n",
    "import sys\n",
    "REPO_PATH = os.path.abspath(os.path.join('..'))\n",
    "if REPO_PATH not in sys.path:\n",
    "    sys.path.append(REPO_PATH)\n",
    "import warnings\n",
    "warnings.filterwarnings(\"ignore\")\n",
    "\n",
    "# --- Data Manipulation --- #\n",
    "import pandas as pd\n",
    "import numpy as np\n",
    "from tqdm import tqdm # Progress bar\n",
    "\n",
    "# --- Financial Data --- #\n",
    "import yfinance as yf\n",
    "\n",
    "# --- Modules --- #\n",
    "from src import *\n",
    "\n",
    "# --- Visualization --- #\n",
    "import matplotlib.pyplot as plt\n",
    "import seaborn as sns\n",
    "import plotly.express as px\n",
    "import plotly.graph_objects as go"
   ]
  },
  {
   "cell_type": "code",
   "execution_count": null,
   "metadata": {},
   "outputs": [],
   "source": [
    "# Read Data\n",
    "df_transactions = pd.read_excel(REPO_PATH+'/data/private/main/'+'Transactions.xlsx')"
   ]
  },
  {
   "cell_type": "markdown",
   "metadata": {},
   "source": [
    "# preprocessing"
   ]
  },
  {
   "cell_type": "code",
   "execution_count": null,
   "metadata": {},
   "outputs": [],
   "source": [
    "def preprocess_securities(df):\n",
    "    # Select Features\n",
    "    df = df[['Date',\n",
    "             'Position',\n",
    "             'Ticker',\n",
    "             'Executed Price (USD)',\n",
    "             'Shares',\n",
    "             ]]\n",
    "\n",
    "    # Normalize Date\n",
    "    df['Date'] = df['Date'].apply(lambda x: x.normalize())\n",
    "\n",
    "    # New Features\n",
    "    # Volume\n",
    "    df['Position'] = df['Position'].apply(lambda x: 1 if x == \"Buy\" else -1)\n",
    "    df['Volume'] = df['Shares'] * df['Position']\n",
    "    df.drop(columns=['Shares', 'Position'], inplace=True)\n",
    "\n",
    "    return df\n",
    "\n",
    "df_transactions = preprocess_securities(df_transactions)"
   ]
  },
  {
   "cell_type": "code",
   "execution_count": null,
   "metadata": {},
   "outputs": [],
   "source": [
    "def stock_split(df, ticker, split_date, split_ratio):\n",
    "    # NVDA Stock Split 2024-06-10, 10:1\n",
    "\n",
    "    # Volume Adjustment\n",
    "    df.loc[\n",
    "        (df[\"Ticker\"] == ticker) & (df[\"Date\"] < split_date),\n",
    "        \"Volume\",\n",
    "    ] = (df[\"Volume\"] * split_ratio)\n",
    "\n",
    "    # Price Adjustment\n",
    "    df.loc[\n",
    "        (df[\"Ticker\"] == ticker) & (df[\"Date\"] < split_date),\n",
    "        \"Executed Price (USD)\",\n",
    "    ] = (df[\"Executed Price (USD)\"] / split_ratio)\n",
    "    return df\n",
    "\n",
    "df_transactions = stock_split(df_transactions, 'NVDA', '2024-06-10', 10)"
   ]
  },
  {
   "cell_type": "markdown",
   "metadata": {},
   "source": [
    "# Portfolio"
   ]
  },
  {
   "cell_type": "code",
   "execution_count": null,
   "metadata": {},
   "outputs": [],
   "source": [
    "df_portfolio = df_transactions.copy()"
   ]
  },
  {
   "cell_type": "code",
   "execution_count": null,
   "metadata": {},
   "outputs": [],
   "source": [
    "df_portfolio = df_portfolio[~df_portfolio['Ticker'].isin(['GOOGL', 'MSFT', 'NVDA'])]"
   ]
  },
  {
   "cell_type": "code",
   "execution_count": null,
   "metadata": {},
   "outputs": [],
   "source": [
    "def aggregate_intraday_to_daily(df):\n",
    "    df['Date'] = df['Date'].dt.normalize()\n",
    "\n",
    "    df = (\n",
    "        df.groupby([\"Ticker\", \"Date\"])\n",
    "        .apply(lambda x: pd.Series({\n",
    "            \"Executed Price (USD)\": np.average(x[\"Executed Price (USD)\"], weights=x[\"Volume\"]),\n",
    "            \"Volume\": x[\"Volume\"].sum()\n",
    "        }))\n",
    "        .reset_index()\n",
    "    )\n",
    "\n",
    "    return df\n",
    "\n",
    "df_portfolio = aggregate_intraday_to_daily(df_portfolio)"
   ]
  },
  {
   "cell_type": "code",
   "execution_count": null,
   "metadata": {},
   "outputs": [],
   "source": [
    "def cumulative_volume(df):\n",
    "    df[\"Cumulative Volume\"] = df.groupby(\"Ticker\")[\"Volume\"].cumsum()\n",
    "\n",
    "    # remove small values resulting from decimal point arithmetic operations\n",
    "    least_significant_digit = 1e-6\n",
    "    df[\"Cumulative Volume\"] = df[\"Cumulative Volume\"].apply(\n",
    "        lambda x: 0 if abs(x) < least_significant_digit else x\n",
    "    )\n",
    "\n",
    "    df.drop(columns=[\"Volume\"], inplace=True)\n",
    "    return df\n",
    "\n",
    "df_portfolio = cumulative_volume(df_portfolio)"
   ]
  },
  {
   "cell_type": "code",
   "execution_count": null,
   "metadata": {},
   "outputs": [],
   "source": [
    "def average_cost_price(df):\n",
    "    df[\"Average Cost Price (USD)\"] = (\n",
    "        df.groupby(\"Ticker\")\n",
    "        .apply(\n",
    "            lambda x: (x[\"Executed Price (USD)\"] * x[\"Volume\"]).cumsum() / x[\"Cumulative Volume\"]\n",
    "        )\n",
    "        .replace([np.inf, -np.inf], np.nan)\n",
    "        .fillna(method=\"ffill\")\n",
    "        .reset_index(drop=True)\n",
    "    )\n",
    "    # df.drop(columns=[\"Executed Price (USD)\"], inplace=True)\n",
    "    return df\n",
    "\n",
    "df_portfolio = average_cost_price(df_portfolio)"
   ]
  },
  {
   "cell_type": "code",
   "execution_count": null,
   "metadata": {},
   "outputs": [],
   "source": [
    "df_portfolio"
   ]
  },
  {
   "cell_type": "code",
   "execution_count": null,
   "metadata": {},
   "outputs": [],
   "source": [
    "def daily_basis(df):\n",
    "    TODAY = pd.Timestamp.today()\n",
    "    all_dates = pd.date_range(start=df[\"Date\"].min(), end=TODAY)\n",
    "\n",
    "    # Ensure all dates are present for each ticker\n",
    "    # and forward-filling\n",
    "    df = (\n",
    "        df.set_index(\"Date\")\n",
    "        .groupby(\"Ticker\")\n",
    "        .apply(lambda x: x.reindex(all_dates))\n",
    "        .drop(columns=\"Ticker\")\n",
    "        .reset_index()\n",
    "        .rename(columns={\"level_1\": \"Date\"})\n",
    "    )\n",
    "\n",
    "    return df\n",
    "\n",
    "# df_portfolio = daily_basis(df_portfolio)"
   ]
  },
  {
   "cell_type": "markdown",
   "metadata": {},
   "source": [
    "## Market Price"
   ]
  },
  {
   "cell_type": "code",
   "execution_count": null,
   "metadata": {},
   "outputs": [],
   "source": [
    "DataTerminal = DataTerminal()"
   ]
  },
  {
   "cell_type": "code",
   "execution_count": null,
   "metadata": {},
   "outputs": [],
   "source": [
    "tickers = set(df_portfolio['Ticker'].unique())\n",
    "# tickers.add(\"THB=X\")\n",
    "print(tickers)\n",
    "\n",
    "df_yf = DataTerminal.fetch_data(tickers)"
   ]
  },
  {
   "cell_type": "code",
   "execution_count": null,
   "metadata": {},
   "outputs": [],
   "source": [
    "def merge_yf_to_portfolio(df_portfolio, df_yf):\n",
    "    # Select useful features\n",
    "    df_yf = df_yf[['Ticker', 'Date', 'Adj Close']]\n",
    "\n",
    "    # Apply daily basis function\n",
    "    df_yf = daily_basis(df_yf)\n",
    "\n",
    "    # Merge dataframes\n",
    "    df_portfolio = df_portfolio.merge(df_yf, on=['Ticker', 'Date'], how='left')\n",
    "    df_portfolio.rename(columns={'Adj Close': 'Market Price (USD)'}, inplace=True)\n",
    "\n",
    "    # Forward fill missing market prices\n",
    "    df_portfolio['Market Price (USD)'] = df_portfolio.groupby('Ticker')['Market Price (USD)'].ffill()\n",
    "\n",
    "    return df_portfolio\n",
    "\n",
    "# Apply the function\n",
    "df_portfolio = merge_yf_to_portfolio(df_portfolio, df_yf)"
   ]
  },
  {
   "cell_type": "markdown",
   "metadata": {},
   "source": [
    "## Calculation"
   ]
  },
  {
   "cell_type": "code",
   "execution_count": null,
   "metadata": {},
   "outputs": [],
   "source": [
    "def portfolio_value(df):\n",
    "    df[\"Asset Value (USD)\"] = (\n",
    "        df[\"Market Price (USD)\"] * df[\"Cumulative Volume\"]\n",
    "    )\n",
    "\n",
    "    portfolio_value = df.groupby(\"Date\")[\"Asset Value (USD)\"].sum()\n",
    "    portfolio_value.name = \"Portfolio Value (USD)\"\n",
    "\n",
    "    df = df.merge(\n",
    "        portfolio_value, how=\"left\", left_on=\"Date\", right_on=\"Date\"\n",
    "    )\n",
    "    return df\n",
    "\n",
    "df_portfolio = portfolio_value(df_portfolio)"
   ]
  },
  {
   "cell_type": "code",
   "execution_count": null,
   "metadata": {},
   "outputs": [],
   "source": [
    "def realized_pnl(df):\n",
    "    # Realized PnL (USD) occurs when the security is sold\n",
    "\n",
    "    for index, row in df.iterrows():\n",
    "        if row['Volume'] < 0: # Sell\n",
    "            df.loc[index, 'Asset Realized PnL (USD)'] = (\n",
    "                abs(row['Volume']) * (row['Executed Price (USD)'] - row['Average Cost Price (USD)']) # Executed\n",
    "            )\n",
    "        else:\n",
    "            df.loc[index, 'Asset Realized PnL (USD)'] = 0\n",
    "\n",
    "    # Cumulative Realized PnL\n",
    "    df['Asset CumRealized PnL (USD)'] = df.groupby('Ticker')['Asset Realized PnL (USD)'].cumsum()\n",
    "\n",
    "    return df\n",
    "\n",
    "df_portfolio = realized_pnl(df_portfolio)"
   ]
  },
  {
   "cell_type": "code",
   "execution_count": null,
   "metadata": {},
   "outputs": [],
   "source": [
    "def unrealized_pnl(df):\n",
    "    # Unrealized PnL (USD) occurs when the security is still hold\n",
    "\n",
    "    df['Asset Unrealized PnL (USD)'] = abs(df['Cumulative Volume']) * (df['Market Price (USD)'] - df['Average Cost Price (USD)'])\n",
    "\n",
    "    return df\n",
    "\n",
    "df_portfolio = unrealized_pnl(df_portfolio)"
   ]
  },
  {
   "cell_type": "code",
   "execution_count": null,
   "metadata": {},
   "outputs": [],
   "source": [
    "def portfolio_return(df):\n",
    "\n",
    "    portfolio_return = df.groupby(\"Date\")[\"Asset CumRealized PnL (USD)\"].sum() + df.groupby(\"Date\")[\"Asset Unrealized PnL (USD)\"].sum()\n",
    "    portfolio_return.name = \"Portfolio Return (USD)\"\n",
    "    print(portfolio_return)\n",
    "    df = df.merge(portfolio_return, how=\"left\", left_on=\"Date\", right_on=\"Date\")\n",
    "\n",
    "    return df\n",
    "\n",
    "df_portfolio = portfolio_return(df_portfolio)"
   ]
  },
  {
   "cell_type": "code",
   "execution_count": null,
   "metadata": {},
   "outputs": [],
   "source": [
    "df_portfolio.sort_values(by=['Date', 'Ticker'], inplace=False)"
   ]
  },
  {
   "cell_type": "code",
   "execution_count": null,
   "metadata": {},
   "outputs": [],
   "source": [
    "def portfolio_return(df):\n",
    "\n",
    "    portfolio_return = df.groupby(\"Date\")[\"Asset CumReturn (%)\"].sum()\n",
    "    portfolio_return.name = \"Portfolio CumReturn (%)\"\n",
    "\n",
    "    df = df.merge(\n",
    "        portfolio_return, how=\"left\", left_on=\"Date\", right_on=\"Date\"\n",
    "    )\n",
    "\n",
    "    return df\n",
    "\n",
    "df_portfolio = portfolio_return(df_portfolio)"
   ]
  },
  {
   "cell_type": "code",
   "execution_count": null,
   "metadata": {},
   "outputs": [],
   "source": [
    "df_portfolio.sort_values(by='Date')"
   ]
  },
  {
   "cell_type": "markdown",
   "metadata": {},
   "source": [
    "# Visualization"
   ]
  },
  {
   "cell_type": "code",
   "execution_count": null,
   "metadata": {},
   "outputs": [],
   "source": [
    "# Grouping and calculating the mean portfolio return by date\n",
    "df = df_portfolio.groupby(\"Date\")[\"Portfolio CumReturn (%)\"].mean() # series\n",
    "\n",
    "fig = go.Figure()\n",
    "COLOR = str(np.where(df[-1] >= 0, \"rgba(0, 255, 0, 0.2)\", \"rgba(255, 0, 0, 0.2)\"))\n",
    "fig.add_trace(\n",
    "    go.Scatter(\n",
    "        x=df.index,\n",
    "        y=df,\n",
    "        mode=\"lines\",\n",
    "        name=\"Portfolio Return (%)\",\n",
    "        fill=\"tozeroy\",\n",
    "        fillcolor=COLOR,\n",
    "        line=dict(color=COLOR),\n",
    "    )\n",
    ")\n",
    "\n",
    "fig.update_layout(\n",
    "    title=\"Portfolio Cumulative Return (%)\",\n",
    "    xaxis_title=\"Date\",\n",
    "    yaxis_title=\"Return (%)\",\n",
    "    template=\"plotly_dark\",\n",
    ")\n",
    "\n",
    "# Displaying the plot\n",
    "fig.show()"
   ]
  }
 ],
 "metadata": {
  "kernelspec": {
   "display_name": "datascience",
   "language": "python",
   "name": "python3"
  },
  "language_info": {
   "codemirror_mode": {
    "name": "ipython",
    "version": 3
   },
   "file_extension": ".py",
   "mimetype": "text/x-python",
   "name": "python",
   "nbconvert_exporter": "python",
   "pygments_lexer": "ipython3",
   "version": "3.9.7"
  }
 },
 "nbformat": 4,
 "nbformat_minor": 2
}
