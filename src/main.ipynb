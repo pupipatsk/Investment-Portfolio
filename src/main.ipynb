{
 "cells": [
  {
   "cell_type": "markdown",
   "metadata": {},
   "source": [
    "### import"
   ]
  },
  {
   "cell_type": "code",
   "execution_count": null,
   "metadata": {},
   "outputs": [],
   "source": [
    "# --- iPython Config --- #\n",
    "from IPython import get_ipython\n",
    "if 'IPython.extensions.autoreload' not in get_ipython().extension_manager.loaded:\n",
    "    get_ipython().run_line_magic('load_ext', 'autoreload')\n",
    "else:\n",
    "    get_ipython().run_line_magic('reload_ext', 'autoreload')\n",
    "%autoreload 2\n",
    "\n",
    "# --- System and Path --- #\n",
    "import os\n",
    "import sys\n",
    "REPO_PATH = os.path.abspath(os.path.join('..'))\n",
    "if REPO_PATH not in sys.path:\n",
    "    sys.path.append(REPO_PATH)\n",
    "import warnings\n",
    "warnings.filterwarnings(\"ignore\")\n",
    "\n",
    "# --- Data Manipulation --- #\n",
    "import pandas as pd\n",
    "import numpy as np\n",
    "from tqdm import tqdm # Progress bar\n",
    "\n",
    "# --- Financial Data --- #\n",
    "import yfinance as yf\n",
    "\n",
    "# --- Modules --- #\n",
    "from src import *\n",
    "\n",
    "# --- Visualization --- #\n",
    "import matplotlib.pyplot as plt"
   ]
  },
  {
   "cell_type": "code",
   "execution_count": null,
   "metadata": {},
   "outputs": [],
   "source": [
    "plt.rcParams.update({\n",
    "    # Axes\n",
    "    'axes.titlesize': 16,\n",
    "    'axes.titlepad': 20,\n",
    "    'axes.labelsize': 12,\n",
    "    'axes.edgecolor': (0.1, 0.1, 0.1),\n",
    "    'axes.labelcolor': (0.1, 0.1, 0.1),\n",
    "    'axes.linewidth': 1,\n",
    "    'axes.spines.top': False,\n",
    "    'axes.spines.right': False,\n",
    "    'axes.spines.bottom': True,\n",
    "    'axes.spines.left': True,\n",
    "    'axes.grid': True,\n",
    "\n",
    "    # Grid\n",
    "    'grid.alpha': 0.7,\n",
    "    'grid.linestyle': '--',\n",
    "    'grid.linewidth': 0.6,\n",
    "\n",
    "    # Lines\n",
    "    'lines.linewidth': 1.5,\n",
    "    'lines.markeredgewidth': 0.0,\n",
    "\n",
    "    # Scatter plot\n",
    "    'scatter.marker': 'x',\n",
    "\n",
    "    # Ticks\n",
    "    'xtick.labelsize': 12,\n",
    "    'xtick.color': (0.1, 0.1, 0.1),\n",
    "    'xtick.direction': 'in',\n",
    "    'ytick.labelsize': 12,\n",
    "    'ytick.color': (0.1, 0.1, 0.1),\n",
    "    'ytick.direction': 'in',\n",
    "\n",
    "    # Figure output\n",
    "    'figure.figsize': (10, 6),\n",
    "    'figure.dpi': 200,\n",
    "    'savefig.dpi': 200,\n",
    "\n",
    "    # Text\n",
    "    'text.color': (0.2, 0.2, 0.2),\n",
    "\n",
    "    # Font\n",
    "    \"font.family\": [\"serif\",\n",
    "                    \"Tahoma\"] # TH Font\n",
    "})"
   ]
  },
  {
   "cell_type": "code",
   "execution_count": null,
   "metadata": {},
   "outputs": [],
   "source": [
    "# Read Data\n",
    "df_transactions = pd.read_excel(REPO_PATH+'/data/private/main/'+'Transactions.xlsx') # raw"
   ]
  },
  {
   "cell_type": "markdown",
   "metadata": {},
   "source": [
    "# preprocessing"
   ]
  },
  {
   "cell_type": "code",
   "execution_count": null,
   "metadata": {},
   "outputs": [],
   "source": [
    "def preprocess_securities(df):\n",
    "    # Select Features\n",
    "    df = df[['Date',\n",
    "             'Position',\n",
    "             'Ticker',\n",
    "             'Executed Price (USD)',\n",
    "             'Shares',\n",
    "             ]]\n",
    "\n",
    "    # Normalize Date\n",
    "    df['Date'] = df['Date'].apply(lambda x: x.normalize())\n",
    "\n",
    "    # New Features\n",
    "    # Volume\n",
    "    df['Position'] = df['Position'].apply(lambda x: 1 if x == \"Buy\" else -1)\n",
    "    df['Volume'] = df['Shares'] * df['Position']\n",
    "    df.drop(columns=['Shares', 'Position'], inplace=True)\n",
    "\n",
    "    return df\n",
    "\n",
    "df_transactions = preprocess_securities(df_transactions)"
   ]
  },
  {
   "cell_type": "code",
   "execution_count": null,
   "metadata": {},
   "outputs": [],
   "source": [
    "def stock_split(df, ticker, split_date, split_ratio):\n",
    "    # NVDA Stock Split 2024-06-10, 10:1\n",
    "\n",
    "    # Volume Adjustment\n",
    "    df.loc[\n",
    "        (df[\"Ticker\"] == ticker) & (df[\"Date\"] < split_date),\n",
    "        \"Volume\",\n",
    "    ] = (df[\"Volume\"] * split_ratio)\n",
    "\n",
    "    # Price Adjustment\n",
    "    df.loc[\n",
    "        (df[\"Ticker\"] == ticker) & (df[\"Date\"] < split_date),\n",
    "        \"Executed Price (USD)\",\n",
    "    ] = (df[\"Executed Price (USD)\"] / split_ratio)\n",
    "    return df\n",
    "\n",
    "df_transactions = stock_split(df_transactions, 'NVDA', '2024-06-10', 10)"
   ]
  },
  {
   "cell_type": "code",
   "execution_count": null,
   "metadata": {},
   "outputs": [],
   "source": [
    "def rename_ticker(df):\n",
    "    # Rename Ticker from BRK.B to BRK-B for yfinance support\n",
    "    df['Ticker'] = df['Ticker'].apply(lambda x: x.replace('.', '-'))\n",
    "\n",
    "    return df\n",
    "\n",
    "df_transactions =  rename_ticker(df_transactions)"
   ]
  },
  {
   "cell_type": "markdown",
   "metadata": {},
   "source": [
    "# Portfolio"
   ]
  },
  {
   "cell_type": "code",
   "execution_count": null,
   "metadata": {},
   "outputs": [],
   "source": [
    "df_portfolio = df_transactions.copy()"
   ]
  },
  {
   "cell_type": "code",
   "execution_count": null,
   "metadata": {},
   "outputs": [],
   "source": [
    "def aggregate_intraday_to_daily(df):\n",
    "    df['Date'] = df['Date'].dt.normalize()\n",
    "\n",
    "    df = (\n",
    "        df.groupby([\"Ticker\", \"Date\"])\n",
    "        .apply(lambda x: pd.Series({\n",
    "            \"Average Cost Price (USD)\": np.average(x[\"Executed Price (USD)\"], weights=x[\"Volume\"]),\n",
    "            \"Volume\": x[\"Volume\"].sum()\n",
    "        }))\n",
    "        .reset_index()\n",
    "    )\n",
    "\n",
    "    return df\n",
    "\n",
    "df_portfolio = aggregate_intraday_to_daily(df_portfolio)"
   ]
  },
  {
   "cell_type": "code",
   "execution_count": null,
   "metadata": {},
   "outputs": [],
   "source": [
    "def cumulative_volume(df):\n",
    "    df[\"Cumulative Volume\"] = df.groupby(\"Ticker\")[\"Volume\"].cumsum()\n",
    "\n",
    "    # remove small values resulting from decimal point arithmetic operations\n",
    "    least_significant_digit = 1e-6\n",
    "    df[\"Cumulative Volume\"] = df[\"Cumulative Volume\"].apply(\n",
    "        lambda x: 0 if abs(x) < least_significant_digit else x\n",
    "    )\n",
    "\n",
    "    df.drop(columns=[\"Volume\"], inplace=True)\n",
    "    return df\n",
    "\n",
    "df_portfolio = cumulative_volume(df_portfolio)"
   ]
  },
  {
   "cell_type": "code",
   "execution_count": null,
   "metadata": {},
   "outputs": [],
   "source": [
    "def daily_basis(df):\n",
    "    TODAY = pd.Timestamp.today()\n",
    "    all_dates = pd.date_range(start=df[\"Date\"].min(), end=TODAY)\n",
    "\n",
    "    # Ensure all dates are present for each ticker\n",
    "    # and forward-filling\n",
    "    df = (\n",
    "        df.set_index(\"Date\")\n",
    "        .groupby(\"Ticker\")\n",
    "        # reindex\n",
    "        .apply(lambda x: x.reindex(all_dates))\n",
    "        .drop(columns=\"Ticker\")\n",
    "\n",
    "        # forward-fill\n",
    "        .groupby(\"Ticker\")\n",
    "        .ffill()\n",
    "\n",
    "        .reset_index()\n",
    "        .rename(columns={\"level_1\": \"Date\"})\n",
    "    )\n",
    "\n",
    "    return df\n",
    "\n",
    "df_portfolio = daily_basis(df_portfolio)"
   ]
  },
  {
   "cell_type": "markdown",
   "metadata": {},
   "source": [
    "## Market Price"
   ]
  },
  {
   "cell_type": "code",
   "execution_count": null,
   "metadata": {},
   "outputs": [],
   "source": [
    "DataTerminal = DataTerminal()"
   ]
  },
  {
   "cell_type": "code",
   "execution_count": null,
   "metadata": {},
   "outputs": [],
   "source": [
    "tickers = set(df_portfolio['Ticker'].unique())\n",
    "# tickers.add(\"THB=X\")\n",
    "print(tickers)\n",
    "\n",
    "df_yf = DataTerminal.fetch_data(tickers)"
   ]
  },
  {
   "cell_type": "code",
   "execution_count": null,
   "metadata": {},
   "outputs": [],
   "source": [
    "def merge_yf_to_portfolio(df_portfolio, df_yf):\n",
    "    # Select useful features\n",
    "    df_yf = df_yf[['Ticker', 'Date', 'Adj Close']]\n",
    "\n",
    "    # Apply daily basis function\n",
    "    df_yf = daily_basis(df_yf)\n",
    "\n",
    "    # Merge dataframes\n",
    "    df_portfolio = df_portfolio.merge(df_yf, on=['Ticker', 'Date'], how='left')\n",
    "    df_portfolio.rename(columns={'Adj Close': 'Market Price (USD)'}, inplace=True)\n",
    "\n",
    "    # Forward fill missing market prices\n",
    "    df_portfolio['Market Price (USD)'] = df_portfolio.groupby('Ticker')['Market Price (USD)'].ffill()\n",
    "\n",
    "    return df_portfolio\n",
    "\n",
    "# Apply the function\n",
    "df_portfolio = merge_yf_to_portfolio(df_portfolio, df_yf)"
   ]
  },
  {
   "cell_type": "code",
   "execution_count": null,
   "metadata": {},
   "outputs": [],
   "source": [
    "def market_value(df):\n",
    "    # Asset Value\n",
    "    df[\"Asset Value (USD)\"] = (\n",
    "        df[\"Market Price (USD)\"] * df[\"Cumulative Volume\"]\n",
    "    )\n",
    "\n",
    "    # Portfolio Value\n",
    "    portfolio_value = df.groupby(\"Date\")[\"Asset Value (USD)\"].sum()\n",
    "    portfolio_value.name = \"Portfolio Value (USD)\"\n",
    "\n",
    "    df = df.merge(\n",
    "        portfolio_value, how=\"left\", left_on=\"Date\", right_on=\"Date\"\n",
    "    )\n",
    "    return df\n",
    "\n",
    "df_portfolio = market_value(df_portfolio)"
   ]
  },
  {
   "cell_type": "code",
   "execution_count": null,
   "metadata": {},
   "outputs": [],
   "source": [
    "def unrealized_pnl(df):\n",
    "    # Unrealized PnL (USD) occurs when the security is still hold\n",
    "    # Asset Unrealized PnL (USD)\n",
    "    df[\"Asset Unrealized PnL (USD)\"] = abs(df[\"Cumulative Volume\"]) * (df[\"Market Price (USD)\"] - df[\"Average Cost Price (USD)\"])\n",
    "    # Asset Unrealized PnL (%)\n",
    "    df[\"Asset Unrealized PnL (%)\"] = (df[\"Market Price (USD)\"] - df[\"Average Cost Price (USD)\"])*100 / df[\"Average Cost Price (USD)\"]\n",
    "\n",
    "    # Portfolio Unrealized PnL (USD)\n",
    "    portfolio_unrealized_pnl = df.groupby(\"Date\")[\"Asset Unrealized PnL (USD)\"].sum()\n",
    "    portfolio_unrealized_pnl.name = \"Portfolio Unrealized PnL (USD)\"\n",
    "    df = df.merge(\n",
    "        portfolio_unrealized_pnl, how=\"left\", left_on=\"Date\", right_on=\"Date\"\n",
    "    )\n",
    "    # Portfolio Unrealized PnL (%)\n",
    "    df[\"Portfolio Unrealized PnL (%)\"] = df[\"Portfolio Unrealized PnL (USD)\"] / df[\"Portfolio Value (USD)\"] *100\n",
    "\n",
    "    return df\n",
    "\n",
    "\n",
    "df_portfolio = unrealized_pnl(df_portfolio)"
   ]
  },
  {
   "cell_type": "markdown",
   "metadata": {},
   "source": [
    "## Cash - USD Deposit"
   ]
  },
  {
   "cell_type": "code",
   "execution_count": null,
   "metadata": {},
   "outputs": [],
   "source": [
    "filename = '20241110-Deposit.csv'\n",
    "df_deposit = pd.read_csv(REPO_PATH+'/data/private/csv/'+filename,\n",
    "                         index_col='Date',\n",
    "                         parse_dates=True)"
   ]
  },
  {
   "cell_type": "code",
   "execution_count": null,
   "metadata": {},
   "outputs": [],
   "source": [
    "# select features\n",
    "df_deposit = df_deposit[['Balance', 'Cumulative Deposit (USD)']]\n",
    "df_deposit.rename(columns={'Balance': 'Cash'}, inplace=True)\n",
    "df_deposit.reset_index(inplace=True)"
   ]
  },
  {
   "cell_type": "code",
   "execution_count": null,
   "metadata": {},
   "outputs": [],
   "source": [
    "def merge_deposit_to_portfolio(df_portfolio, df_deposit):\n",
    "    # merge\n",
    "    df_portfolio = df_portfolio.merge(df_deposit, on='Date', how='left')\n",
    "\n",
    "    # forward fill\n",
    "    df_portfolio['Cash'] = df_portfolio.groupby('Ticker')['Cash'].ffill()\n",
    "    df_portfolio['Cumulative Deposit (USD)'] = df_portfolio.groupby('Ticker')['Cumulative Deposit (USD)'].ffill()\n",
    "\n",
    "    return df_portfolio\n",
    "\n",
    "df_portfolio = merge_deposit_to_portfolio(df_portfolio, df_deposit)"
   ]
  },
  {
   "cell_type": "code",
   "execution_count": null,
   "metadata": {},
   "outputs": [],
   "source": [
    "df_portfolio"
   ]
  },
  {
   "cell_type": "code",
   "execution_count": null,
   "metadata": {},
   "outputs": [],
   "source": [
    "def save_to_csv(df, REPO_PATH=REPO_PATH):\n",
    "\n",
    "    time_now = pd.Timestamp.now().strftime(\"%Y%m%d\")\n",
    "\n",
    "    filename = time_now + '-Portfolio.csv'\n",
    "    folderpath = REPO_PATH + '/data/private/csv/'\n",
    "    filepath = folderpath + filename\n",
    "\n",
    "    df.to_csv(filepath, index=False)\n",
    "\n",
    "save_to_csv(df_portfolio)"
   ]
  },
  {
   "cell_type": "markdown",
   "metadata": {},
   "source": [
    "# Metrics"
   ]
  },
  {
   "cell_type": "code",
   "execution_count": null,
   "metadata": {},
   "outputs": [],
   "source": [
    "df_portfolio_metrics = df_portfolio.copy()"
   ]
  },
  {
   "cell_type": "code",
   "execution_count": null,
   "metadata": {},
   "outputs": [],
   "source": [
    "# aggregate\n",
    "df_portfolio_metrics = df_portfolio_metrics.groupby('Date')[['Portfolio Value (USD)', 'Portfolio Unrealized PnL (USD)', 'Portfolio Unrealized PnL (%)', 'Cash', 'Cumulative Deposit (USD)']].mean()"
   ]
  },
  {
   "cell_type": "code",
   "execution_count": null,
   "metadata": {},
   "outputs": [],
   "source": [
    "def portfolio_profit(df):\n",
    "    # Portfolio Net Profit (USD)\n",
    "    df[\"Portfolio Net Profit (USD)\"] = (df[\"Portfolio Value (USD)\"] + df['Cash']) - df[\"Cumulative Deposit (USD)\"]\n",
    "\n",
    "    # ROI (%)\n",
    "    df[\"ROI (%)\"] = df[\"Portfolio Net Profit (USD)\"] / df[\"Cumulative Deposit (USD)\"] * 100\n",
    "\n",
    "    return df\n",
    "\n",
    "df_portfolio_metrics = portfolio_profit(df_portfolio_metrics)"
   ]
  },
  {
   "cell_type": "markdown",
   "metadata": {},
   "source": [
    "## Sharpe Ratio\n",
    "$$Sharpe\\ ratio = \\frac{R_p - R_f}{\\sigma_p}$$"
   ]
  },
  {
   "cell_type": "code",
   "execution_count": null,
   "metadata": {},
   "outputs": [],
   "source": [
    "def fetch_risk_free_rate(ticker='^TNX'):\n",
    "\n",
    "    # Risk Free Rate\n",
    "    # CBOE Interest Rate 10 Year T No\n",
    "    risk_free_rate = DataTerminal.fetch_data([ticker])  # percent\n",
    "    # no data on market closing day\n",
    "\n",
    "    risk_free_rate.drop_duplicates(subset=\"Date\", inplace=True)\n",
    "    risk_free_rate.set_index(\"Date\", inplace=True)\n",
    "    risk_free_rate.drop(columns=[\"Ticker\"], inplace=True)\n",
    "    risk_free_rate.rename(columns={\"Adj Close\": \"Annual Rate (%)\"}, inplace=True)\n",
    "\n",
    "    days_in_year=252\n",
    "    risk_free_rate['Daily Rate (%)'] = risk_free_rate['Annual Rate (%)'] / days_in_year\n",
    "\n",
    "    # select useful features\n",
    "    risk_free_rate = risk_free_rate[['Annual Rate (%)', 'Daily Rate (%)']]\n",
    "\n",
    "    return risk_free_rate\n",
    "\n",
    "risk_free_rate = fetch_risk_free_rate()"
   ]
  },
  {
   "cell_type": "code",
   "execution_count": null,
   "metadata": {},
   "outputs": [],
   "source": [
    "def dynamic_sharpe_ratio(df, risk_free_rate):\n",
    "\n",
    "    df_sharpe = df.groupby('Date')['ROI (%)'].mean().reset_index()\n",
    "    df_sharpe.set_index('Date', inplace=True)\n",
    "    df_sharpe['Portfolio Daily Return (%)'] = df_sharpe['ROI (%)'].diff()\n",
    "\n",
    "    # merge risk free rate\n",
    "    df_sharpe = df_sharpe.merge(risk_free_rate['Daily Rate (%)'], on='Date', how='left')\n",
    "    # drop row for Non-Trading Day NaN\n",
    "    df_sharpe.dropna(subset=['Daily Rate (%)'], inplace=True)\n",
    "\n",
    "    # excess return\n",
    "    df_sharpe['Excess Daily Return (%)'] = df_sharpe['Portfolio Daily Return (%)'] - df_sharpe['Daily Rate (%)']\n",
    "\n",
    "    # Sharpe Ratio\n",
    "    df_sharpe['Dynamic Sharpe Ratio'] = df_sharpe['Excess Daily Return (%)'].expanding().sum() / (df_sharpe['Excess Daily Return (%)'].expanding().std() * np.sqrt(df_sharpe['Excess Daily Return (%)'].expanding().count()))\n",
    "\n",
    "    return df_sharpe\n",
    "\n",
    "df_sharpe = dynamic_sharpe_ratio(df_portfolio_metrics, risk_free_rate)"
   ]
  },
  {
   "cell_type": "code",
   "execution_count": null,
   "metadata": {},
   "outputs": [],
   "source": [
    "def merge_sharpe_to_portfolio(df_portfolio_metric, df_sharpe):\n",
    "    df_portfolio_metric = df_portfolio_metric.merge(df_sharpe['Dynamic Sharpe Ratio'], on='Date', how='left')\n",
    "    # forward fill\n",
    "    df_portfolio_metric['Dynamic Sharpe Ratio'] = df_portfolio_metric['Dynamic Sharpe Ratio'].ffill()\n",
    "\n",
    "    return df_portfolio_metric\n",
    "\n",
    "df_portfolio_metrics = merge_sharpe_to_portfolio(df_portfolio_metrics, df_sharpe)"
   ]
  },
  {
   "cell_type": "code",
   "execution_count": null,
   "metadata": {},
   "outputs": [],
   "source": [
    "def dynamic_sortino_ratio(df, risk_free_rate):\n",
    "\n",
    "    df_sortino = pd.DataFrame(index=df.index)\n",
    "    df_sortino['return_1d'] = df['ROI (%)'].diff()\n",
    "\n",
    "    # merge risk free rate\n",
    "    df_sortino = df_sortino.merge(risk_free_rate['Daily Rate (%)'], on='Date', how='left')\n",
    "    # drop row for Non-Trading Day NaN\n",
    "    df_sortino.dropna(subset=['Daily Rate (%)'], inplace=True)\n",
    "\n",
    "    # excess return\n",
    "    excess_return = df_sortino['return_1d'] - df_sortino['Daily Rate (%)']\n",
    "    excess_return[excess_return > 0] = 0\n",
    "\n",
    "    downside_std = np.sqrt((excess_return**2).expanding().sum() / excess_return.expanding().count())\n",
    "\n",
    "    df['Dynamic Sortino Ratio'] = (df_sortino['return_1d']-df_sortino['Daily Rate (%)']).expanding().sum() / (downside_std * np.sqrt((df_sortino['return_1d']-df_sortino['Daily Rate (%)']).expanding().count()))\n",
    "    # forward fill\n",
    "    df['Dynamic Sortino Ratio'] = df['Dynamic Sortino Ratio'].ffill()\n",
    "\n",
    "    return df\n",
    "\n",
    "df_portfolio_metrics = dynamic_sortino_ratio(df_portfolio_metrics, risk_free_rate)"
   ]
  },
  {
   "cell_type": "code",
   "execution_count": null,
   "metadata": {},
   "outputs": [],
   "source": [
    "def return_metrics(df):\n",
    "    # Mean Return\n",
    "    df['Mean return (%)'] = df['Portfolio Unrealized PnL (%)'].diff().expanding().mean() *100\n",
    "\n",
    "    # Standard Deviation\n",
    "    df['Std return (%)'] = df['Mean return (%)'].expanding().std()\n",
    "\n",
    "    # Volatility 30 days\n",
    "    df['Volatility_30d (%)'] = df['Mean return (%)'].rolling(30).std() * np.sqrt(30)\n",
    "\n",
    "\n",
    "    return df\n",
    "\n",
    "df_portfolio_metrics = return_metrics(df_portfolio_metrics)"
   ]
  },
  {
   "cell_type": "code",
   "execution_count": null,
   "metadata": {},
   "outputs": [],
   "source": [
    "def cvar(df):\n",
    "    # CVaR 95%\n",
    "    return_1d = df['Portfolio Unrealized PnL (%)'].diff()\n",
    "\n",
    "    cvar_95 = return_1d.expanding().apply(lambda x: x[x < x.quantile(0.05)].mean(), raw=False)\n",
    "\n",
    "    df['CVaR 95%'] = cvar_95\n",
    "\n",
    "    return df\n",
    "\n",
    "df_portfolio_metrics = cvar(df_portfolio_metrics)"
   ]
  },
  {
   "cell_type": "code",
   "execution_count": null,
   "metadata": {},
   "outputs": [],
   "source": [
    "df_portfolio.info()"
   ]
  },
  {
   "cell_type": "code",
   "execution_count": null,
   "metadata": {},
   "outputs": [],
   "source": [
    "df_portfolio_metrics.info()"
   ]
  },
  {
   "cell_type": "code",
   "execution_count": null,
   "metadata": {},
   "outputs": [],
   "source": [
    "# def save_to_csv(df, REPO_PATH=REPO_PATH):\n",
    "#     df.reset_index(inplace=True)\n",
    "\n",
    "#     time_now = pd.Timestamp.now().strftime(\"%Y%m%d\")\n",
    "\n",
    "#     filename = time_now + '-PortfolioMetrics.csv'\n",
    "#     folderpath = REPO_PATH + '/data/private/csv/'\n",
    "#     filepath = folderpath + filename\n",
    "\n",
    "#     df.to_csv(filepath, index=False)\n",
    "\n",
    "# save_to_csv(df_portfolio_metrics)"
   ]
  }
 ],
 "metadata": {
  "kernelspec": {
   "display_name": "datascience",
   "language": "python",
   "name": "python3"
  },
  "language_info": {
   "codemirror_mode": {
    "name": "ipython",
    "version": 3
   },
   "file_extension": ".py",
   "mimetype": "text/x-python",
   "name": "python",
   "nbconvert_exporter": "python",
   "pygments_lexer": "ipython3",
   "version": "3.9.7"
  }
 },
 "nbformat": 4,
 "nbformat_minor": 2
}
