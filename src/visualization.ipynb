{
 "cells": [
  {
   "cell_type": "code",
   "execution_count": null,
   "metadata": {},
   "outputs": [],
   "source": [
    "# --- System and Path --- #\n",
    "import os\n",
    "import sys\n",
    "REPO_PATH = os.path.abspath(os.path.join('..'))\n",
    "if REPO_PATH not in sys.path:\n",
    "    sys.path.append(REPO_PATH)\n",
    "import warnings\n",
    "warnings.filterwarnings(\"ignore\")\n",
    "\n",
    "import pandas as pd\n",
    "import numpy as np\n",
    "import plotly.express as px\n",
    "import plotly.graph_objects as go"
   ]
  },
  {
   "cell_type": "code",
   "execution_count": null,
   "metadata": {},
   "outputs": [],
   "source": [
    "filename = '20241110-PortfolioMetric.csv'\n",
    "df_plot = pd.read_csv(REPO_PATH+'/data/private/csv/'+filename, index_col='Date', parse_dates=True)"
   ]
  },
  {
   "cell_type": "code",
   "execution_count": null,
   "metadata": {},
   "outputs": [],
   "source": [
    "df_plot.info()"
   ]
  },
  {
   "cell_type": "code",
   "execution_count": null,
   "metadata": {},
   "outputs": [],
   "source": [
    "df_plot"
   ]
  },
  {
   "cell_type": "code",
   "execution_count": null,
   "metadata": {},
   "outputs": [],
   "source": [
    "def plot_portfolio_return(df_plot, y):\n",
    "    # Grouping and calculating the mean portfolio return by date\n",
    "    df = df_plot.groupby(\"Date\")[y].mean()  # series\n",
    "\n",
    "    fig = go.Figure()\n",
    "    COLOR = str(np.where(df[-1] >= 0, \"rgba(0, 255, 0, 0.2)\", \"rgba(255, 0, 0, 0.2)\"))\n",
    "    fig.add_trace(\n",
    "        go.Scatter(\n",
    "            x=df.index,\n",
    "            y=df,\n",
    "            mode=\"lines\",\n",
    "            name=y,\n",
    "            fill=\"tozeroy\",\n",
    "            fillcolor=COLOR,\n",
    "            line=dict(color=COLOR),\n",
    "        )\n",
    "    )\n",
    "\n",
    "    fig.update_layout(\n",
    "        title=y,\n",
    "        xaxis_title=\"Date\",\n",
    "        yaxis_title=\"Return (%)\",\n",
    "        template=\"plotly_dark\",\n",
    "    )\n",
    "\n",
    "    # Displaying the plot\n",
    "    fig.show()\n",
    "\n",
    "# Call the function\n",
    "plot_portfolio_return(df_plot, \"Portfolio Cumulative Return (%)\")"
   ]
  },
  {
   "cell_type": "code",
   "execution_count": null,
   "metadata": {},
   "outputs": [],
   "source": [
    "plot_portfolio_return(df_plot, \"Portfolio Unrealized PnL (%)\")"
   ]
  }
 ],
 "metadata": {
  "kernelspec": {
   "display_name": "datascience",
   "language": "python",
   "name": "python3"
  },
  "language_info": {
   "codemirror_mode": {
    "name": "ipython",
    "version": 3
   },
   "file_extension": ".py",
   "mimetype": "text/x-python",
   "name": "python",
   "nbconvert_exporter": "python",
   "pygments_lexer": "ipython3",
   "version": "3.9.7"
  }
 },
 "nbformat": 4,
 "nbformat_minor": 2
}
